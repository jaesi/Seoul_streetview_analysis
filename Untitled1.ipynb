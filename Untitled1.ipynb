{
 "cells": [
  {
   "cell_type": "code",
   "execution_count": 5,
   "id": "b32193f2-7a0e-416d-a203-42915cdcd802",
   "metadata": {},
   "outputs": [],
   "source": [
    "import os\n",
    "import shutil\n",
    "\n",
    "# 폴더 경로 설정\n",
    "folders = ['syarosu',\n",
    "           'hongdae', \n",
    "           'ssook']\n",
    "target_folder = 'streetview_images_total'"
   ]
  },
  {
   "cell_type": "code",
   "execution_count": 6,
   "id": "b7fd8890-58f5-436b-a448-f16752b86215",
   "metadata": {},
   "outputs": [],
   "source": [
    "# 타겟 폴더가 없다면 생성\n",
    "if not os.path.exists(target_folder):\n",
    "    os.makedirs(target_folder)"
   ]
  },
  {
   "cell_type": "code",
   "execution_count": 10,
   "id": "baaaf50f-8f29-4990-bac2-45ba9d82d8fb",
   "metadata": {},
   "outputs": [],
   "source": [
    "# 각 폴더를 순회하면서 파일 이름 변경 및 복사\n",
    "for folder in folders:\n",
    "    for filename in os.listdir(folder):\n",
    "        if filename.endswith('.jpg'):  # PNG 파일만 처리\n",
    "            # 새로운 파일 이름 생성\n",
    "            new_filename = f\"{folder}_{filename.split('.')[0]}.jpg\"\n",
    "            # 원본 파일의 전체 경로\n",
    "            original_file = os.path.join(folder, filename)\n",
    "            # 새로운 파일 경로\n",
    "            new_file_path = os.path.join(target_folder, new_filename)\n",
    "            # 파일 복사\n",
    "            shutil.copy2(original_file, new_file_path)"
   ]
  }
 ],
 "metadata": {
  "kernelspec": {
   "display_name": "Python 3 (ipykernel)",
   "language": "python",
   "name": "python3"
  },
  "language_info": {
   "codemirror_mode": {
    "name": "ipython",
    "version": 3
   },
   "file_extension": ".py",
   "mimetype": "text/x-python",
   "name": "python",
   "nbconvert_exporter": "python",
   "pygments_lexer": "ipython3",
   "version": "3.11.4"
  }
 },
 "nbformat": 4,
 "nbformat_minor": 5
}
