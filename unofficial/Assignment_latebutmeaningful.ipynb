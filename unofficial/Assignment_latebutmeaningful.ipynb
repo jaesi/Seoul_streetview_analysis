{
 "cells": [
  {
   "cell_type": "code",
   "execution_count": 2,
   "id": "090ad0dd-ff02-41d0-8825-6087effa1fdf",
   "metadata": {},
   "outputs": [],
   "source": [
    "import numpy as np\n",
    "import matplotlib.pyplot as plt\n",
    "from sklearn.datasets import fetch_california_housing\n",
    "from sklearn.model_selection import train_test_split, GridSearchCV\n",
    "from sklearn.tree import DecisionTreeRegressor\n",
    "from sklearn.ensemble import RandomForestRegressor, GradientBoostingRegressor\n",
    "from sklearn.svm import SVR\n",
    "from sklearn.neighbors import KNeighborsRegressor\n",
    "from sklearn.metrics import r2_score\n",
    "from sklearn.inspection import PartialDependenceDisplay"
   ]
  },
  {
   "cell_type": "code",
   "execution_count": 3,
   "id": "fe86a70c-033d-4d8d-ad6f-9dda8ef70404",
   "metadata": {},
   "outputs": [],
   "source": [
    "# Step 1: Data Preparation\n",
    "# Load the California housing dataset and select non-spatial features\n",
    "data = fetch_california_housing(as_frame=True)\n",
    "X = data.data[['MedInc', 'HouseAge', 'AveRooms', 'AveBedrms', 'Population', 'AveOccup']]\n",
    "y = data.target\n",
    "\n",
    "# Split the dataset into training (70%) and test (30%) sets\n",
    "X_train, X_test, y_train, y_test = train_test_split(X, y, test_size=0.3, random_state=0)\n"
   ]
  },
  {
   "cell_type": "code",
   "execution_count": 4,
   "id": "ae7bc47a-b92d-473f-897b-f2f8d8743a56",
   "metadata": {},
   "outputs": [],
   "source": [
    "# Step 2: Model Selection and Training\n",
    "# Initialize models\n",
    "models = {\n",
    "    'Decision Tree': DecisionTreeRegressor(),\n",
    "    'Random Forest': RandomForestRegressor(),\n",
    "    'Gradient Boosting': GradientBoostingRegressor(),\n",
    "    'Support Vector Machine': SVR(),\n",
    "    'K-Nearest Neighbors': KNeighborsRegressor()\n",
    "}"
   ]
  },
  {
   "cell_type": "code",
   "execution_count": 5,
   "id": "88b22fd2-c9ca-4c8b-87ed-b5452f699c11",
   "metadata": {},
   "outputs": [],
   "source": [
    "# Define hyperparameter search spaces\n",
    "param_grids = {\n",
    "    'Decision Tree': {'max_depth': list(range(1, 11))},\n",
    "    'Random Forest': {'n_estimators': list(range(100, 1001, 100))},\n",
    "    'Gradient Boosting': {'learning_rate': [0.01, 0.02, 0.03, 0.04, 0.05, 0.06, 0.07, 0.08, 0.09, 0.1]},\n",
    "    'Support Vector Machine': {'kernel': ['linear', 'poly', 'rbf']},\n",
    "    'K-Nearest Neighbors': {'n_neighbors': list(range(10, 101, 10))}\n",
    "}"
   ]
  },
  {
   "cell_type": "code",
   "execution_count": null,
   "id": "e126a648-6dc3-4166-a286-a72997cdbf5d",
   "metadata": {},
   "outputs": [
    {
     "name": "stderr",
     "output_type": "stream",
     "text": [
      " 20%|████████████████▊                                                                   | 1/5 [00:03<00:12,  3.23s/it]"
     ]
    }
   ],
   "source": [
    "# Perform grid search with 5-fold cross-validation and train models\n",
    "from tqdm import tqdm\n",
    "\n",
    "best_models = {}\n",
    "for model_name, model in tqdm(models.items()):\n",
    "    grid_search = GridSearchCV(model, param_grids[model_name], cv=5, scoring='r2')\n",
    "    grid_search.fit(X_train, y_train)\n",
    "    best_model = grid_search.best_estimator_\n",
    "    best_models[model_name] = best_model"
   ]
  },
  {
   "cell_type": "code",
   "execution_count": null,
   "id": "24e4932f-313f-43b5-898b-6af0a75b0b4f",
   "metadata": {},
   "outputs": [],
   "source": [
    "# Step 3: Model Evaluation\n",
    "# Calculate R-squared (R2) scores for all models on training and test sets\n",
    "results = {}\n",
    "for model_name, model in best_models.items():\n",
    "    y_train_pred = model.predict(X_train)\n",
    "    y_test_pred = model.predict(X_test)\n",
    "    train_r2 = r2_score(y_train, y_train_pred)\n",
    "    test_r2 = r2_score(y_test, y_test_pred)\n",
    "    results[model_name] = {'Train R2': train_r2, 'Test R2': test_r2}"
   ]
  },
  {
   "cell_type": "code",
   "execution_count": null,
   "id": "32b9115f-e6e1-479b-a4b6-f516e8f25f61",
   "metadata": {},
   "outputs": [],
   "source": [
    "# Step 4: Interpretability Analysis for Gradient Boosting Decision Tree\n",
    "# Feature importance\n",
    "gbdt_model = best_models['Gradient Boosting']\n",
    "feature_importance = gbdt_model.feature_importances_"
   ]
  },
  {
   "cell_type": "code",
   "execution_count": null,
   "id": "336f5dde-6542-4d7b-bdd2-e07fb7e0b2ec",
   "metadata": {},
   "outputs": [],
   "source": [
    "# Partial dependence plots\n",
    "features = X.columns\n",
    "fig, ax = plt.subplots(figsize=(12, 6))\n",
    "plot_partial_dependence(gbdt_model, X_train, features=features, ax=ax)\n",
    "plt.suptitle('Partial Dependence Plots for Non-Spatial Features')\n",
    "plt.subplots_adjust(top=0.9)"
   ]
  },
  {
   "cell_type": "code",
   "execution_count": null,
   "id": "47bced38-8872-4ecc-b1de-836b6e676495",
   "metadata": {},
   "outputs": [],
   "source": [
    "# Step 5: Report\n",
    "# Print model performance results\n",
    "print(\"Model Performance:\")\n",
    "for model_name, metrics in results.items():\n",
    "    print(f\"{model_name}: Train R2 = {metrics['Train R2']:.4f}, Test R2 = {metrics['Test R2']:.4f}\")"
   ]
  },
  {
   "cell_type": "code",
   "execution_count": null,
   "id": "6ab1e021-6e22-4b4b-a163-b073f4db82ae",
   "metadata": {},
   "outputs": [],
   "source": [
    "# Display feature importance plot\n",
    "plt.figure(figsize=(10, 6))\n",
    "plt.bar(features, feature_importance)\n",
    "plt.xlabel('Features')\n",
    "plt.ylabel('Feature Importance')\n",
    "plt.title('Impurity-Based Feature Importance')\n",
    "plt.xticks(rotation=45)\n",
    "plt.show()"
   ]
  },
  {
   "cell_type": "code",
   "execution_count": null,
   "id": "6d5c17ba-082e-4bb6-8ac3-af5a1c42397b",
   "metadata": {},
   "outputs": [],
   "source": [
    "# Show partial dependence plots\n",
    "plt.show()"
   ]
  }
 ],
 "metadata": {
  "kernelspec": {
   "display_name": "Python 3 (ipykernel)",
   "language": "python",
   "name": "python3"
  },
  "language_info": {
   "codemirror_mode": {
    "name": "ipython",
    "version": 3
   },
   "file_extension": ".py",
   "mimetype": "text/x-python",
   "name": "python",
   "nbconvert_exporter": "python",
   "pygments_lexer": "ipython3",
   "version": "3.11.4"
  }
 },
 "nbformat": 4,
 "nbformat_minor": 5
}
